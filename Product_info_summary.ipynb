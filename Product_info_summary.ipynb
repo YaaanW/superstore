{
  "nbformat": 4,
  "nbformat_minor": 0,
  "metadata": {
    "colab": {
      "provenance": []
    },
    "kernelspec": {
      "name": "python3",
      "display_name": "Python 3"
    },
    "language_info": {
      "name": "python"
    }
  },
  "cells": [
    {
      "cell_type": "markdown",
      "source": [
        "To open notebook in Colab please click below:\n",
        "\n",
        "<a href=\"https://colab.research.google.com/github/pearl-yu/foster_2022fall/blob/2022-master/Homeworks/HW%202.ipynb\" target=\"_parent\"> <img src=\"https://colab.research.google.com/assets/colab-badge.svg\" alt=\"Open In Colab\" /> </a>"
      ],
      "metadata": {
        "id": "gvydYhYm2Uxv"
      }
    },
    {
      "cell_type": "code",
      "execution_count": 1,
      "metadata": {
        "colab": {
          "base_uri": "https://localhost:8080/"
        },
        "id": "6Sm2P-446DcB",
        "outputId": "ed1c3428-372c-49c0-b40d-9da0970e86e9"
      },
      "outputs": [
        {
          "output_type": "stream",
          "name": "stdout",
          "text": [
            "Cloning into 'superstore'...\n",
            "remote: Enumerating objects: 27, done.\u001b[K\n",
            "remote: Counting objects: 100% (27/27), done.\u001b[K\n",
            "remote: Compressing objects: 100% (23/23), done.\u001b[K\n",
            "remote: Total 27 (delta 8), reused 0 (delta 0), pack-reused 0\u001b[K\n",
            "Unpacking objects: 100% (27/27), done.\n",
            "/content/superstore/data\n"
          ]
        }
      ],
      "source": [
        "#If opening in colab run this cell to get data\n",
        "!git clone https://github.com/YaaanW/superstore.git\n",
        "%cd superstore/data/"
      ]
    },
    {
      "cell_type": "code",
      "source": [
        "import numpy as np\n",
        "import pandas as pd"
      ],
      "metadata": {
        "id": "yGg6m0l06hZW"
      },
      "execution_count": 2,
      "outputs": []
    },
    {
      "cell_type": "code",
      "source": [
        "# Load the data and first 10 rows\n",
        "data = pd.read_csv(\"product_info.csv\")\n",
        "data.head(10)"
      ],
      "metadata": {
        "colab": {
          "base_uri": "https://localhost:8080/",
          "height": 363
        },
        "id": "eHY9Lx-n6puZ",
        "outputId": "bf66ec58-cb0c-415e-87f4-92342149d216"
      },
      "execution_count": 11,
      "outputs": [
        {
          "output_type": "execute_result",
          "data": {
            "text/plain": [
              "         Product ID         Category Sub-Category  \\\n",
              "0  OFF-TEN-10000025  Office Supplies      Storage   \n",
              "1   OFF-SU-10000618  Office Supplies     Supplies   \n",
              "2  OFF-TEN-10001585  Office Supplies      Storage   \n",
              "3   OFF-PA-10001492  Office Supplies        Paper   \n",
              "4   FUR-FU-10003447        Furniture  Furnishings   \n",
              "5   OFF-PA-10001968  Office Supplies        Paper   \n",
              "6   TEC-CO-10002316       Technology      Copiers   \n",
              "7   FUR-BO-10003966        Furniture    Bookcases   \n",
              "8  OFF-FEL-10001541  Office Supplies      Storage   \n",
              "9   OFF-ST-10002161  Office Supplies      Storage   \n",
              "\n",
              "                                        Product Name  Unit Price  \n",
              "0                                Tenex Lockers, Blue      204.15  \n",
              "1                           Acme Trimmer, High Speed       44.58  \n",
              "2                            Tenex Box, Single Width       16.53  \n",
              "3                        Enermax Note Cards, Premium       29.91  \n",
              "4                         Eldon Light Bulb, Duo Pack       25.26  \n",
              "5            Eaton Computer Printout Paper, 8.5 x 11       30.69  \n",
              "6                     Brother Personal Copier, Laser      142.89  \n",
              "7  Sauder Facets Collection Library, Sky Alder Fi...      170.98  \n",
              "8                       Fellowes Lockers, Wire Frame      206.40  \n",
              "9                          Tenex Trays, Single Width       54.24  "
            ],
            "text/html": [
              "\n",
              "  <div id=\"df-9fd51909-0f89-42dc-be87-bac2dd0a5214\">\n",
              "    <div class=\"colab-df-container\">\n",
              "      <div>\n",
              "<style scoped>\n",
              "    .dataframe tbody tr th:only-of-type {\n",
              "        vertical-align: middle;\n",
              "    }\n",
              "\n",
              "    .dataframe tbody tr th {\n",
              "        vertical-align: top;\n",
              "    }\n",
              "\n",
              "    .dataframe thead th {\n",
              "        text-align: right;\n",
              "    }\n",
              "</style>\n",
              "<table border=\"1\" class=\"dataframe\">\n",
              "  <thead>\n",
              "    <tr style=\"text-align: right;\">\n",
              "      <th></th>\n",
              "      <th>Product ID</th>\n",
              "      <th>Category</th>\n",
              "      <th>Sub-Category</th>\n",
              "      <th>Product Name</th>\n",
              "      <th>Unit Price</th>\n",
              "    </tr>\n",
              "  </thead>\n",
              "  <tbody>\n",
              "    <tr>\n",
              "      <th>0</th>\n",
              "      <td>OFF-TEN-10000025</td>\n",
              "      <td>Office Supplies</td>\n",
              "      <td>Storage</td>\n",
              "      <td>Tenex Lockers, Blue</td>\n",
              "      <td>204.15</td>\n",
              "    </tr>\n",
              "    <tr>\n",
              "      <th>1</th>\n",
              "      <td>OFF-SU-10000618</td>\n",
              "      <td>Office Supplies</td>\n",
              "      <td>Supplies</td>\n",
              "      <td>Acme Trimmer, High Speed</td>\n",
              "      <td>44.58</td>\n",
              "    </tr>\n",
              "    <tr>\n",
              "      <th>2</th>\n",
              "      <td>OFF-TEN-10001585</td>\n",
              "      <td>Office Supplies</td>\n",
              "      <td>Storage</td>\n",
              "      <td>Tenex Box, Single Width</td>\n",
              "      <td>16.53</td>\n",
              "    </tr>\n",
              "    <tr>\n",
              "      <th>3</th>\n",
              "      <td>OFF-PA-10001492</td>\n",
              "      <td>Office Supplies</td>\n",
              "      <td>Paper</td>\n",
              "      <td>Enermax Note Cards, Premium</td>\n",
              "      <td>29.91</td>\n",
              "    </tr>\n",
              "    <tr>\n",
              "      <th>4</th>\n",
              "      <td>FUR-FU-10003447</td>\n",
              "      <td>Furniture</td>\n",
              "      <td>Furnishings</td>\n",
              "      <td>Eldon Light Bulb, Duo Pack</td>\n",
              "      <td>25.26</td>\n",
              "    </tr>\n",
              "    <tr>\n",
              "      <th>5</th>\n",
              "      <td>OFF-PA-10001968</td>\n",
              "      <td>Office Supplies</td>\n",
              "      <td>Paper</td>\n",
              "      <td>Eaton Computer Printout Paper, 8.5 x 11</td>\n",
              "      <td>30.69</td>\n",
              "    </tr>\n",
              "    <tr>\n",
              "      <th>6</th>\n",
              "      <td>TEC-CO-10002316</td>\n",
              "      <td>Technology</td>\n",
              "      <td>Copiers</td>\n",
              "      <td>Brother Personal Copier, Laser</td>\n",
              "      <td>142.89</td>\n",
              "    </tr>\n",
              "    <tr>\n",
              "      <th>7</th>\n",
              "      <td>FUR-BO-10003966</td>\n",
              "      <td>Furniture</td>\n",
              "      <td>Bookcases</td>\n",
              "      <td>Sauder Facets Collection Library, Sky Alder Fi...</td>\n",
              "      <td>170.98</td>\n",
              "    </tr>\n",
              "    <tr>\n",
              "      <th>8</th>\n",
              "      <td>OFF-FEL-10001541</td>\n",
              "      <td>Office Supplies</td>\n",
              "      <td>Storage</td>\n",
              "      <td>Fellowes Lockers, Wire Frame</td>\n",
              "      <td>206.40</td>\n",
              "    </tr>\n",
              "    <tr>\n",
              "      <th>9</th>\n",
              "      <td>OFF-ST-10002161</td>\n",
              "      <td>Office Supplies</td>\n",
              "      <td>Storage</td>\n",
              "      <td>Tenex Trays, Single Width</td>\n",
              "      <td>54.24</td>\n",
              "    </tr>\n",
              "  </tbody>\n",
              "</table>\n",
              "</div>\n",
              "      <button class=\"colab-df-convert\" onclick=\"convertToInteractive('df-9fd51909-0f89-42dc-be87-bac2dd0a5214')\"\n",
              "              title=\"Convert this dataframe to an interactive table.\"\n",
              "              style=\"display:none;\">\n",
              "        \n",
              "  <svg xmlns=\"http://www.w3.org/2000/svg\" height=\"24px\"viewBox=\"0 0 24 24\"\n",
              "       width=\"24px\">\n",
              "    <path d=\"M0 0h24v24H0V0z\" fill=\"none\"/>\n",
              "    <path d=\"M18.56 5.44l.94 2.06.94-2.06 2.06-.94-2.06-.94-.94-2.06-.94 2.06-2.06.94zm-11 1L8.5 8.5l.94-2.06 2.06-.94-2.06-.94L8.5 2.5l-.94 2.06-2.06.94zm10 10l.94 2.06.94-2.06 2.06-.94-2.06-.94-.94-2.06-.94 2.06-2.06.94z\"/><path d=\"M17.41 7.96l-1.37-1.37c-.4-.4-.92-.59-1.43-.59-.52 0-1.04.2-1.43.59L10.3 9.45l-7.72 7.72c-.78.78-.78 2.05 0 2.83L4 21.41c.39.39.9.59 1.41.59.51 0 1.02-.2 1.41-.59l7.78-7.78 2.81-2.81c.8-.78.8-2.07 0-2.86zM5.41 20L4 18.59l7.72-7.72 1.47 1.35L5.41 20z\"/>\n",
              "  </svg>\n",
              "      </button>\n",
              "      \n",
              "  <style>\n",
              "    .colab-df-container {\n",
              "      display:flex;\n",
              "      flex-wrap:wrap;\n",
              "      gap: 12px;\n",
              "    }\n",
              "\n",
              "    .colab-df-convert {\n",
              "      background-color: #E8F0FE;\n",
              "      border: none;\n",
              "      border-radius: 50%;\n",
              "      cursor: pointer;\n",
              "      display: none;\n",
              "      fill: #1967D2;\n",
              "      height: 32px;\n",
              "      padding: 0 0 0 0;\n",
              "      width: 32px;\n",
              "    }\n",
              "\n",
              "    .colab-df-convert:hover {\n",
              "      background-color: #E2EBFA;\n",
              "      box-shadow: 0px 1px 2px rgba(60, 64, 67, 0.3), 0px 1px 3px 1px rgba(60, 64, 67, 0.15);\n",
              "      fill: #174EA6;\n",
              "    }\n",
              "\n",
              "    [theme=dark] .colab-df-convert {\n",
              "      background-color: #3B4455;\n",
              "      fill: #D2E3FC;\n",
              "    }\n",
              "\n",
              "    [theme=dark] .colab-df-convert:hover {\n",
              "      background-color: #434B5C;\n",
              "      box-shadow: 0px 1px 3px 1px rgba(0, 0, 0, 0.15);\n",
              "      filter: drop-shadow(0px 1px 2px rgba(0, 0, 0, 0.3));\n",
              "      fill: #FFFFFF;\n",
              "    }\n",
              "  </style>\n",
              "\n",
              "      <script>\n",
              "        const buttonEl =\n",
              "          document.querySelector('#df-9fd51909-0f89-42dc-be87-bac2dd0a5214 button.colab-df-convert');\n",
              "        buttonEl.style.display =\n",
              "          google.colab.kernel.accessAllowed ? 'block' : 'none';\n",
              "\n",
              "        async function convertToInteractive(key) {\n",
              "          const element = document.querySelector('#df-9fd51909-0f89-42dc-be87-bac2dd0a5214');\n",
              "          const dataTable =\n",
              "            await google.colab.kernel.invokeFunction('convertToInteractive',\n",
              "                                                     [key], {});\n",
              "          if (!dataTable) return;\n",
              "\n",
              "          const docLinkHtml = 'Like what you see? Visit the ' +\n",
              "            '<a target=\"_blank\" href=https://colab.research.google.com/notebooks/data_table.ipynb>data table notebook</a>'\n",
              "            + ' to learn more about interactive tables.';\n",
              "          element.innerHTML = '';\n",
              "          dataTable['output_type'] = 'display_data';\n",
              "          await google.colab.output.renderOutput(dataTable, element);\n",
              "          const docLink = document.createElement('div');\n",
              "          docLink.innerHTML = docLinkHtml;\n",
              "          element.appendChild(docLink);\n",
              "        }\n",
              "      </script>\n",
              "    </div>\n",
              "  </div>\n",
              "  "
            ]
          },
          "metadata": {},
          "execution_count": 11
        }
      ]
    },
    {
      "cell_type": "code",
      "source": [
        "# Show total amount of rows and columns\n",
        "data.shape"
      ],
      "metadata": {
        "colab": {
          "base_uri": "https://localhost:8080/"
        },
        "id": "0V5bVM6z7AAW",
        "outputId": "aecce35d-1311-4663-f812-de12144770ec"
      },
      "execution_count": 10,
      "outputs": [
        {
          "output_type": "execute_result",
          "data": {
            "text/plain": [
              "(51290, 5)"
            ]
          },
          "metadata": {},
          "execution_count": 10
        }
      ]
    },
    {
      "cell_type": "code",
      "source": [
        "# Check NA value\n",
        "checkNa = data.isnull().sum()\n",
        "checkNa"
      ],
      "metadata": {
        "colab": {
          "base_uri": "https://localhost:8080/"
        },
        "id": "3-SrskJ38Epg",
        "outputId": "0ddf205f-abd4-4925-c186-4b29ef6ba544"
      },
      "execution_count": 12,
      "outputs": [
        {
          "output_type": "execute_result",
          "data": {
            "text/plain": [
              "Product ID      0\n",
              "Category        0\n",
              "Sub-Category    0\n",
              "Product Name    0\n",
              "Unit Price      0\n",
              "dtype: int64"
            ]
          },
          "metadata": {},
          "execution_count": 12
        }
      ]
    },
    {
      "cell_type": "code",
      "source": [
        "# amount for each category\n",
        "data[\"Category\"].value_counts()"
      ],
      "metadata": {
        "colab": {
          "base_uri": "https://localhost:8080/"
        },
        "id": "-_ISRlfx8Sr8",
        "outputId": "a879caf5-482a-4bf8-b6c5-51361144bf73"
      },
      "execution_count": 13,
      "outputs": [
        {
          "output_type": "execute_result",
          "data": {
            "text/plain": [
              "Office Supplies    31273\n",
              "Technology         10141\n",
              "Furniture           9876\n",
              "Name: Category, dtype: int64"
            ]
          },
          "metadata": {},
          "execution_count": 13
        }
      ]
    },
    {
      "cell_type": "code",
      "source": [
        "# How many categories \n",
        "data[\"Category\"].nunique()"
      ],
      "metadata": {
        "colab": {
          "base_uri": "https://localhost:8080/"
        },
        "id": "QpzYcDgW_ALk",
        "outputId": "04b43114-5449-4a58-b651-0d9e11baa7a0"
      },
      "execution_count": 21,
      "outputs": [
        {
          "output_type": "execute_result",
          "data": {
            "text/plain": [
              "3"
            ]
          },
          "metadata": {},
          "execution_count": 21
        }
      ]
    },
    {
      "cell_type": "code",
      "source": [
        "# amount for each Sub-Category\t\n",
        "data[\"Sub-Category\"].value_counts()"
      ],
      "metadata": {
        "colab": {
          "base_uri": "https://localhost:8080/"
        },
        "id": "yi3hmcgv8hnQ",
        "outputId": "57d6b753-1101-4ebe-ceeb-50f7ecceb803"
      },
      "execution_count": 17,
      "outputs": [
        {
          "output_type": "execute_result",
          "data": {
            "text/plain": [
              "Binders        6152\n",
              "Storage        5059\n",
              "Art            4883\n",
              "Paper          3538\n",
              "Chairs         3434\n",
              "Phones         3357\n",
              "Furnishings    3170\n",
              "Accessories    3075\n",
              "Labels         2606\n",
              "Envelopes      2435\n",
              "Supplies       2425\n",
              "Fasteners      2420\n",
              "Bookcases      2411\n",
              "Copiers        2223\n",
              "Appliances     1755\n",
              "Machines       1486\n",
              "Tables          861\n",
              "Name: Sub-Category, dtype: int64"
            ]
          },
          "metadata": {},
          "execution_count": 17
        }
      ]
    },
    {
      "cell_type": "code",
      "source": [
        "# amount for each Sub-Category group by Category\n",
        "data.groupby(['Category', 'Sub-Category']).size()"
      ],
      "metadata": {
        "colab": {
          "base_uri": "https://localhost:8080/"
        },
        "id": "3U3vL1mt-ApY",
        "outputId": "bad99668-1c45-48e4-9247-10691d4a6dd8"
      },
      "execution_count": 19,
      "outputs": [
        {
          "output_type": "execute_result",
          "data": {
            "text/plain": [
              "Category         Sub-Category\n",
              "Furniture        Bookcases       2411\n",
              "                 Chairs          3434\n",
              "                 Furnishings     3170\n",
              "                 Tables           861\n",
              "Office Supplies  Appliances      1755\n",
              "                 Art             4883\n",
              "                 Binders         6152\n",
              "                 Envelopes       2435\n",
              "                 Fasteners       2420\n",
              "                 Labels          2606\n",
              "                 Paper           3538\n",
              "                 Storage         5059\n",
              "                 Supplies        2425\n",
              "Technology       Accessories     3075\n",
              "                 Copiers         2223\n",
              "                 Machines        1486\n",
              "                 Phones          3357\n",
              "dtype: int64"
            ]
          },
          "metadata": {},
          "execution_count": 19
        }
      ]
    },
    {
      "cell_type": "code",
      "source": [
        "# How many sub-categories in each category\n",
        "data.groupby('Category')['Sub-Category'].nunique()"
      ],
      "metadata": {
        "colab": {
          "base_uri": "https://localhost:8080/"
        },
        "id": "Ky0Ae6is_PyB",
        "outputId": "ea58a945-2df8-4012-fd55-15559372aa43"
      },
      "execution_count": 39,
      "outputs": [
        {
          "output_type": "execute_result",
          "data": {
            "text/plain": [
              "Category\n",
              "Furniture          4\n",
              "Office Supplies    9\n",
              "Technology         4\n",
              "Name: Sub-Category, dtype: int64"
            ]
          },
          "metadata": {},
          "execution_count": 39
        }
      ]
    },
    {
      "cell_type": "code",
      "source": [
        "data[data['Sub-Category'] == 'Paper'].head(20)"
      ],
      "metadata": {
        "colab": {
          "base_uri": "https://localhost:8080/",
          "height": 677
        },
        "id": "38nBC2xMEQWW",
        "outputId": "61cd0ef7-8dcd-414c-8a6c-d73cf20a1539"
      },
      "execution_count": 41,
      "outputs": [
        {
          "output_type": "execute_result",
          "data": {
            "text/plain": [
              "          Product ID         Category Sub-Category  \\\n",
              "3    OFF-PA-10001492  Office Supplies        Paper   \n",
              "5    OFF-PA-10001968  Office Supplies        Paper   \n",
              "58   OFF-PA-10000116  Office Supplies        Paper   \n",
              "67   OFF-PA-10003036  Office Supplies        Paper   \n",
              "127  OFF-PA-10004082  Office Supplies        Paper   \n",
              "134  OFF-PA-10000061  Office Supplies        Paper   \n",
              "146  OFF-PA-10001170  Office Supplies        Paper   \n",
              "172  OFF-PA-10002377  Office Supplies        Paper   \n",
              "180  OFF-PA-10000048  Office Supplies        Paper   \n",
              "196  OFF-PA-10004294  Office Supplies        Paper   \n",
              "206  OFF-PA-10004100  Office Supplies        Paper   \n",
              "263  OFF-PA-10003359  Office Supplies        Paper   \n",
              "271  OFF-PA-10002382  Office Supplies        Paper   \n",
              "285  OFF-PA-10000806  Office Supplies        Paper   \n",
              "293  OFF-PA-10000533  Office Supplies        Paper   \n",
              "300  OFF-PA-10004947  Office Supplies        Paper   \n",
              "330  OFF-PA-10001323  Office Supplies        Paper   \n",
              "340  OFF-PA-10002363  Office Supplies        Paper   \n",
              "341  OFF-PA-10001972  Office Supplies        Paper   \n",
              "368  OFF-PA-10003899  Office Supplies        Paper   \n",
              "\n",
              "                                          Product Name  Unit Price  \n",
              "3                          Enermax Note Cards, Premium       29.91  \n",
              "5              Eaton Computer Printout Paper, 8.5 x 11       30.69  \n",
              "58                      Xerox Parchment Paper, Premium       13.26  \n",
              "67   Black Print Carbonless 8 1/2\" x 8 1/4\" Rapid M...        7.28  \n",
              "127  Adams Telephone Message Book w/Frequently-Call...        7.98  \n",
              "134                                          Xerox 205        6.48  \n",
              "146                Xerox Cards & Envelopes, Multicolor       30.92  \n",
              "172                                         Xerox 1916       48.94  \n",
              "180                       Xerox Memo Slips, Multicolor       14.94  \n",
              "196            Xerox Computer Printout Paper, 8.5 x 11       20.32  \n",
              "206                                          Xerox 216        6.48  \n",
              "263                  Eaton Cards & Envelopes, 8.5 x 11       49.32  \n",
              "271                          Eaton Note Cards, Premium       18.66  \n",
              "285                                         Xerox 1934       55.98  \n",
              "293             Southworth Parchment Paper & Envelopes        6.54  \n",
              "300                                            Staples        4.28  \n",
              "330                         Eaton Note Cards, 8.5 x 11       26.49  \n",
              "340                      Eaton Message Books, Recycled       13.66  \n",
              "341                                          Xerox 214        6.48  \n",
              "368                     SanDisk Memo Slips, Multicolor       18.39  "
            ],
            "text/html": [
              "\n",
              "  <div id=\"df-1c2fa3f3-0d4a-4724-a97d-a4dbfa64df6f\">\n",
              "    <div class=\"colab-df-container\">\n",
              "      <div>\n",
              "<style scoped>\n",
              "    .dataframe tbody tr th:only-of-type {\n",
              "        vertical-align: middle;\n",
              "    }\n",
              "\n",
              "    .dataframe tbody tr th {\n",
              "        vertical-align: top;\n",
              "    }\n",
              "\n",
              "    .dataframe thead th {\n",
              "        text-align: right;\n",
              "    }\n",
              "</style>\n",
              "<table border=\"1\" class=\"dataframe\">\n",
              "  <thead>\n",
              "    <tr style=\"text-align: right;\">\n",
              "      <th></th>\n",
              "      <th>Product ID</th>\n",
              "      <th>Category</th>\n",
              "      <th>Sub-Category</th>\n",
              "      <th>Product Name</th>\n",
              "      <th>Unit Price</th>\n",
              "    </tr>\n",
              "  </thead>\n",
              "  <tbody>\n",
              "    <tr>\n",
              "      <th>3</th>\n",
              "      <td>OFF-PA-10001492</td>\n",
              "      <td>Office Supplies</td>\n",
              "      <td>Paper</td>\n",
              "      <td>Enermax Note Cards, Premium</td>\n",
              "      <td>29.91</td>\n",
              "    </tr>\n",
              "    <tr>\n",
              "      <th>5</th>\n",
              "      <td>OFF-PA-10001968</td>\n",
              "      <td>Office Supplies</td>\n",
              "      <td>Paper</td>\n",
              "      <td>Eaton Computer Printout Paper, 8.5 x 11</td>\n",
              "      <td>30.69</td>\n",
              "    </tr>\n",
              "    <tr>\n",
              "      <th>58</th>\n",
              "      <td>OFF-PA-10000116</td>\n",
              "      <td>Office Supplies</td>\n",
              "      <td>Paper</td>\n",
              "      <td>Xerox Parchment Paper, Premium</td>\n",
              "      <td>13.26</td>\n",
              "    </tr>\n",
              "    <tr>\n",
              "      <th>67</th>\n",
              "      <td>OFF-PA-10003036</td>\n",
              "      <td>Office Supplies</td>\n",
              "      <td>Paper</td>\n",
              "      <td>Black Print Carbonless 8 1/2\" x 8 1/4\" Rapid M...</td>\n",
              "      <td>7.28</td>\n",
              "    </tr>\n",
              "    <tr>\n",
              "      <th>127</th>\n",
              "      <td>OFF-PA-10004082</td>\n",
              "      <td>Office Supplies</td>\n",
              "      <td>Paper</td>\n",
              "      <td>Adams Telephone Message Book w/Frequently-Call...</td>\n",
              "      <td>7.98</td>\n",
              "    </tr>\n",
              "    <tr>\n",
              "      <th>134</th>\n",
              "      <td>OFF-PA-10000061</td>\n",
              "      <td>Office Supplies</td>\n",
              "      <td>Paper</td>\n",
              "      <td>Xerox 205</td>\n",
              "      <td>6.48</td>\n",
              "    </tr>\n",
              "    <tr>\n",
              "      <th>146</th>\n",
              "      <td>OFF-PA-10001170</td>\n",
              "      <td>Office Supplies</td>\n",
              "      <td>Paper</td>\n",
              "      <td>Xerox Cards &amp; Envelopes, Multicolor</td>\n",
              "      <td>30.92</td>\n",
              "    </tr>\n",
              "    <tr>\n",
              "      <th>172</th>\n",
              "      <td>OFF-PA-10002377</td>\n",
              "      <td>Office Supplies</td>\n",
              "      <td>Paper</td>\n",
              "      <td>Xerox 1916</td>\n",
              "      <td>48.94</td>\n",
              "    </tr>\n",
              "    <tr>\n",
              "      <th>180</th>\n",
              "      <td>OFF-PA-10000048</td>\n",
              "      <td>Office Supplies</td>\n",
              "      <td>Paper</td>\n",
              "      <td>Xerox Memo Slips, Multicolor</td>\n",
              "      <td>14.94</td>\n",
              "    </tr>\n",
              "    <tr>\n",
              "      <th>196</th>\n",
              "      <td>OFF-PA-10004294</td>\n",
              "      <td>Office Supplies</td>\n",
              "      <td>Paper</td>\n",
              "      <td>Xerox Computer Printout Paper, 8.5 x 11</td>\n",
              "      <td>20.32</td>\n",
              "    </tr>\n",
              "    <tr>\n",
              "      <th>206</th>\n",
              "      <td>OFF-PA-10004100</td>\n",
              "      <td>Office Supplies</td>\n",
              "      <td>Paper</td>\n",
              "      <td>Xerox 216</td>\n",
              "      <td>6.48</td>\n",
              "    </tr>\n",
              "    <tr>\n",
              "      <th>263</th>\n",
              "      <td>OFF-PA-10003359</td>\n",
              "      <td>Office Supplies</td>\n",
              "      <td>Paper</td>\n",
              "      <td>Eaton Cards &amp; Envelopes, 8.5 x 11</td>\n",
              "      <td>49.32</td>\n",
              "    </tr>\n",
              "    <tr>\n",
              "      <th>271</th>\n",
              "      <td>OFF-PA-10002382</td>\n",
              "      <td>Office Supplies</td>\n",
              "      <td>Paper</td>\n",
              "      <td>Eaton Note Cards, Premium</td>\n",
              "      <td>18.66</td>\n",
              "    </tr>\n",
              "    <tr>\n",
              "      <th>285</th>\n",
              "      <td>OFF-PA-10000806</td>\n",
              "      <td>Office Supplies</td>\n",
              "      <td>Paper</td>\n",
              "      <td>Xerox 1934</td>\n",
              "      <td>55.98</td>\n",
              "    </tr>\n",
              "    <tr>\n",
              "      <th>293</th>\n",
              "      <td>OFF-PA-10000533</td>\n",
              "      <td>Office Supplies</td>\n",
              "      <td>Paper</td>\n",
              "      <td>Southworth Parchment Paper &amp; Envelopes</td>\n",
              "      <td>6.54</td>\n",
              "    </tr>\n",
              "    <tr>\n",
              "      <th>300</th>\n",
              "      <td>OFF-PA-10004947</td>\n",
              "      <td>Office Supplies</td>\n",
              "      <td>Paper</td>\n",
              "      <td>Staples</td>\n",
              "      <td>4.28</td>\n",
              "    </tr>\n",
              "    <tr>\n",
              "      <th>330</th>\n",
              "      <td>OFF-PA-10001323</td>\n",
              "      <td>Office Supplies</td>\n",
              "      <td>Paper</td>\n",
              "      <td>Eaton Note Cards, 8.5 x 11</td>\n",
              "      <td>26.49</td>\n",
              "    </tr>\n",
              "    <tr>\n",
              "      <th>340</th>\n",
              "      <td>OFF-PA-10002363</td>\n",
              "      <td>Office Supplies</td>\n",
              "      <td>Paper</td>\n",
              "      <td>Eaton Message Books, Recycled</td>\n",
              "      <td>13.66</td>\n",
              "    </tr>\n",
              "    <tr>\n",
              "      <th>341</th>\n",
              "      <td>OFF-PA-10001972</td>\n",
              "      <td>Office Supplies</td>\n",
              "      <td>Paper</td>\n",
              "      <td>Xerox 214</td>\n",
              "      <td>6.48</td>\n",
              "    </tr>\n",
              "    <tr>\n",
              "      <th>368</th>\n",
              "      <td>OFF-PA-10003899</td>\n",
              "      <td>Office Supplies</td>\n",
              "      <td>Paper</td>\n",
              "      <td>SanDisk Memo Slips, Multicolor</td>\n",
              "      <td>18.39</td>\n",
              "    </tr>\n",
              "  </tbody>\n",
              "</table>\n",
              "</div>\n",
              "      <button class=\"colab-df-convert\" onclick=\"convertToInteractive('df-1c2fa3f3-0d4a-4724-a97d-a4dbfa64df6f')\"\n",
              "              title=\"Convert this dataframe to an interactive table.\"\n",
              "              style=\"display:none;\">\n",
              "        \n",
              "  <svg xmlns=\"http://www.w3.org/2000/svg\" height=\"24px\"viewBox=\"0 0 24 24\"\n",
              "       width=\"24px\">\n",
              "    <path d=\"M0 0h24v24H0V0z\" fill=\"none\"/>\n",
              "    <path d=\"M18.56 5.44l.94 2.06.94-2.06 2.06-.94-2.06-.94-.94-2.06-.94 2.06-2.06.94zm-11 1L8.5 8.5l.94-2.06 2.06-.94-2.06-.94L8.5 2.5l-.94 2.06-2.06.94zm10 10l.94 2.06.94-2.06 2.06-.94-2.06-.94-.94-2.06-.94 2.06-2.06.94z\"/><path d=\"M17.41 7.96l-1.37-1.37c-.4-.4-.92-.59-1.43-.59-.52 0-1.04.2-1.43.59L10.3 9.45l-7.72 7.72c-.78.78-.78 2.05 0 2.83L4 21.41c.39.39.9.59 1.41.59.51 0 1.02-.2 1.41-.59l7.78-7.78 2.81-2.81c.8-.78.8-2.07 0-2.86zM5.41 20L4 18.59l7.72-7.72 1.47 1.35L5.41 20z\"/>\n",
              "  </svg>\n",
              "      </button>\n",
              "      \n",
              "  <style>\n",
              "    .colab-df-container {\n",
              "      display:flex;\n",
              "      flex-wrap:wrap;\n",
              "      gap: 12px;\n",
              "    }\n",
              "\n",
              "    .colab-df-convert {\n",
              "      background-color: #E8F0FE;\n",
              "      border: none;\n",
              "      border-radius: 50%;\n",
              "      cursor: pointer;\n",
              "      display: none;\n",
              "      fill: #1967D2;\n",
              "      height: 32px;\n",
              "      padding: 0 0 0 0;\n",
              "      width: 32px;\n",
              "    }\n",
              "\n",
              "    .colab-df-convert:hover {\n",
              "      background-color: #E2EBFA;\n",
              "      box-shadow: 0px 1px 2px rgba(60, 64, 67, 0.3), 0px 1px 3px 1px rgba(60, 64, 67, 0.15);\n",
              "      fill: #174EA6;\n",
              "    }\n",
              "\n",
              "    [theme=dark] .colab-df-convert {\n",
              "      background-color: #3B4455;\n",
              "      fill: #D2E3FC;\n",
              "    }\n",
              "\n",
              "    [theme=dark] .colab-df-convert:hover {\n",
              "      background-color: #434B5C;\n",
              "      box-shadow: 0px 1px 3px 1px rgba(0, 0, 0, 0.15);\n",
              "      filter: drop-shadow(0px 1px 2px rgba(0, 0, 0, 0.3));\n",
              "      fill: #FFFFFF;\n",
              "    }\n",
              "  </style>\n",
              "\n",
              "      <script>\n",
              "        const buttonEl =\n",
              "          document.querySelector('#df-1c2fa3f3-0d4a-4724-a97d-a4dbfa64df6f button.colab-df-convert');\n",
              "        buttonEl.style.display =\n",
              "          google.colab.kernel.accessAllowed ? 'block' : 'none';\n",
              "\n",
              "        async function convertToInteractive(key) {\n",
              "          const element = document.querySelector('#df-1c2fa3f3-0d4a-4724-a97d-a4dbfa64df6f');\n",
              "          const dataTable =\n",
              "            await google.colab.kernel.invokeFunction('convertToInteractive',\n",
              "                                                     [key], {});\n",
              "          if (!dataTable) return;\n",
              "\n",
              "          const docLinkHtml = 'Like what you see? Visit the ' +\n",
              "            '<a target=\"_blank\" href=https://colab.research.google.com/notebooks/data_table.ipynb>data table notebook</a>'\n",
              "            + ' to learn more about interactive tables.';\n",
              "          element.innerHTML = '';\n",
              "          dataTable['output_type'] = 'display_data';\n",
              "          await google.colab.output.renderOutput(dataTable, element);\n",
              "          const docLink = document.createElement('div');\n",
              "          docLink.innerHTML = docLinkHtml;\n",
              "          element.appendChild(docLink);\n",
              "        }\n",
              "      </script>\n",
              "    </div>\n",
              "  </div>\n",
              "  "
            ]
          },
          "metadata": {},
          "execution_count": 41
        }
      ]
    }
  ]
}